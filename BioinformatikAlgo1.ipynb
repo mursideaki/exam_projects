{
  "nbformat": 4,
  "nbformat_minor": 0,
  "metadata": {
    "colab": {
      "provenance": []
    },
    "kernelspec": {
      "name": "python3",
      "display_name": "Python 3"
    },
    "language_info": {
      "name": "python"
    }
  },
  "cells": [
    {
      "cell_type": "code",
      "execution_count": null,
      "metadata": {
        "colab": {
          "base_uri": "https://localhost:8080/"
        },
        "id": "oHpBb1VAAFk_",
        "outputId": "fa9b20f3-2b33-4ed7-d4f1-29132ae056dd"
      },
      "outputs": [
        {
          "output_type": "stream",
          "name": "stdout",
          "text": [
            "Looking in indexes: https://pypi.org/simple, https://us-python.pkg.dev/colab-wheels/public/simple/\n",
            "Collecting biopython\n",
            "  Downloading biopython-1.80-cp38-cp38-manylinux_2_17_x86_64.manylinux2014_x86_64.whl (3.1 MB)\n",
            "\u001b[2K     \u001b[90m━━━━━━━━━━━━━━━━━━━━━━━━━━━━━━━━━━━━━━━━\u001b[0m \u001b[32m3.1/3.1 MB\u001b[0m \u001b[31m60.2 MB/s\u001b[0m eta \u001b[36m0:00:00\u001b[0m\n",
            "\u001b[?25hRequirement already satisfied: numpy in /usr/local/lib/python3.8/dist-packages (from biopython) (1.21.6)\n",
            "Installing collected packages: biopython\n",
            "Successfully installed biopython-1.80\n"
          ]
        }
      ],
      "source": [
        "!pip install biopython"
      ]
    },
    {
      "cell_type": "markdown",
      "source": [
        "MSA ile BENZERLİK BULMA"
      ],
      "metadata": {
        "id": "kcZsHstfKkiB"
      }
    },
    {
      "cell_type": "code",
      "source": [
        "from Bio.Seq import Seq\n",
        "from Bio.SeqRecord import SeqRecord\n",
        "from Bio.Align import MultipleSeqAlignment\n",
        "alignment = MultipleSeqAlignment(\n",
        "     [\n",
        "        SeqRecord(Seq(\"ACCTGCACCA\"), id='seq1'),\n",
        "        SeqRecord(Seq(\"AGCTCCACTA\"), id='seq2'),\n",
        "        SeqRecord(Seq(\"GCCTACACTA\"), id='seq3'),\n",
        "        SeqRecord(Seq(\"TCCTACATCA\"), id='seq4'),\n",
        "        SeqRecord(Seq(\"CCCTGAACCT\"), id='seq5'),\n",
        "        SeqRecord(Seq(\"TCCTACACTA\"), id='seq6'),\n",
        "    ]\n",
        " )\n",
        "\n",
        "print(alignment)"
      ],
      "metadata": {
        "colab": {
          "base_uri": "https://localhost:8080/"
        },
        "id": "EFhE-5CZOEc-",
        "outputId": "a1f45ec0-db2f-4751-afc5-949327069118"
      },
      "execution_count": null,
      "outputs": [
        {
          "output_type": "stream",
          "name": "stdout",
          "text": [
            "Alignment with 6 rows and 10 columns\n",
            "ACCTGCACCA seq1\n",
            "AGCTCCACTA seq2\n",
            "GCCTACACTA seq3\n",
            "TCCTACATCA seq4\n",
            "CCCTGAACCT seq5\n",
            "TCCTACACTA seq6\n"
          ]
        }
      ]
    },
    {
      "cell_type": "markdown",
      "source": [
        "DİSTANCE MATRİX"
      ],
      "metadata": {
        "id": "EalxRv1kKxhG"
      }
    },
    {
      "cell_type": "code",
      "source": [
        "# Importing necessary libraries from BioPython\n",
        "from Bio import Phylo, AlignIO\n",
        "from Bio.Phylo.TreeConstruction import DistanceCalculator, DistanceTreeConstructor"
      ],
      "metadata": {
        "id": "oWYswGPoOMhi"
      },
      "execution_count": null,
      "outputs": []
    },
    {
      "cell_type": "code",
      "source": [
        "# Calculate the distance matrix\n",
        "calculator = DistanceCalculator('identity')\n",
        "distMatrix = calculator.get_distance(alignment)\n",
        "print(distMatrix)"
      ],
      "metadata": {
        "colab": {
          "base_uri": "https://localhost:8080/"
        },
        "id": "3Y-btymIOY1o",
        "outputId": "3aff4eda-19b3-49c9-9af0-4340d8514ffd"
      },
      "execution_count": null,
      "outputs": [
        {
          "output_type": "stream",
          "name": "stdout",
          "text": [
            "seq1\t0\n",
            "seq2\t0.30000000000000004\t0\n",
            "seq3\t0.30000000000000004\t0.30000000000000004\t0\n",
            "seq4\t0.30000000000000004\t0.5\t0.30000000000000004\t0\n",
            "seq5\t0.30000000000000004\t0.6\t0.5\t0.5\t0\n",
            "seq6\t0.30000000000000004\t0.30000000000000004\t0.09999999999999998\t0.19999999999999996\t0.5\t0\n",
            "\tseq1\tseq2\tseq3\tseq4\tseq5\tseq6\n"
          ]
        }
      ]
    },
    {
      "cell_type": "markdown",
      "source": [
        "COMPLETE GRAPH"
      ],
      "metadata": {
        "id": "zICj5kKrK20T"
      }
    },
    {
      "cell_type": "code",
      "source": [
        "import matplotlib.pyplot as plt\n",
        "import numpy as np\n",
        "import networkx as nx\n",
        "\n",
        "\n",
        "A = np.array([(0, 0.3, 0.3, 0.3, 0.3, 0.3),\n",
        "              (0.3, 0, 0.3, 0.5, 0.6, 0.3),\n",
        "              (0.3, 0.3, 0, 0.3, 0.5, 0.09 ),\n",
        "              (0.3, 0.5, 0.3, 0, 0.5, 0.19),\n",
        "              (0.3, 0.6, 0.5, 0.5, 0, 0.5),\n",
        "              (0.3, 0.3, 0.09, 0.19, 0.5, 0)\n",
        "              ])*100\n",
        "\n",
        "G=nx.from_numpy_matrix(A)\n",
        "\n",
        "nx.draw(G,edge_color = [ i[2]['weight'] for i in G.edges(data=True)], with_labels=True  )\n",
        "\n",
        "plot = plt.figure()\n",
        "\n",
        "plt.show()\n"
      ],
      "metadata": {
        "colab": {
          "base_uri": "https://localhost:8080/",
          "height": 337
        },
        "id": "N-wNUHABOzQl",
        "outputId": "b0f4aefd-d1a2-4e2c-950a-18d6cb0d1bcf"
      },
      "execution_count": null,
      "outputs": [
        {
          "output_type": "display_data",
          "data": {
            "text/plain": [
              "<Figure size 432x288 with 1 Axes>"
            ],
            "image/png": "[encoded data removed]"
          },
          "metadata": {}
        },
        {
          "output_type": "display_data",
          "data": {
            "text/plain": [
              "<Figure size 432x288 with 0 Axes>"
            ]
          },
          "metadata": {}
        }
      ]
    },
    {
      "cell_type": "markdown",
      "source": [
        "KÜTÜPHANEDEN MST BULUNMASI"
      ],
      "metadata": {
        "id": "_78ODTF3LTmY"
      }
    },
    {
      "cell_type": "code",
      "source": [
        "import numpy as np\n",
        "d=np.array(distMatrix)\n",
        "from scipy.sparse.csgraph import minimum_spanning_tree\n",
        "tree=minimum_spanning_tree(d)\n",
        "print(tree)"
      ],
      "metadata": {
        "colab": {
          "base_uri": "https://localhost:8080/"
        },
        "id": "3-TKkJ-UO9vE",
        "outputId": "ccc157a4-5c42-4a4d-9075-7419184efdd2"
      },
      "execution_count": null,
      "outputs": [
        {
          "output_type": "stream",
          "name": "stdout",
          "text": [
            "  (2, 5)\t0.09999999999999998\n",
            "  (3, 5)\t0.19999999999999996\n",
            "  (4, 0)\t0.30000000000000004\n",
            "  (5, 0)\t0.30000000000000004\n",
            "  (5, 1)\t0.30000000000000004\n"
          ]
        }
      ]
    },
    {
      "cell_type": "markdown",
      "source": [
        "KÜTÜPHANEDEN HESAPLANAN MST ile PHYLOGENETIC TREE ÇİZDİRİLMESİ"
      ],
      "metadata": {
        "id": "lKmIR56GLXkq"
      }
    },
    {
      "cell_type": "code",
      "source": [
        "# First networkx library is imported\n",
        "# along with matplotlib\n",
        "import networkx as nx\n",
        "import matplotlib.pyplot as plt\n",
        "\n",
        "\n",
        "# Defining a Class\n",
        "class GraphVisualization:\n",
        "\n",
        "    def __init__(self):\n",
        "\n",
        "        # visual is a list which stores all\n",
        "        # the set of edges that constitutes a\n",
        "        # graph\n",
        "        self.visual = []\n",
        "\n",
        "    # addEdge function inputs the vertices of an\n",
        "    # edge and appends it to the visual list\n",
        "    def addEdge(self, a, b):\n",
        "        temp = [a, b]\n",
        "        self.visual.append(temp)\n",
        "\n",
        "    # In visualize function G is an object of\n",
        "    # class Graph given by networkx G.add_edges_from(visual)\n",
        "    # creates a graph with a given list\n",
        "    # nx.draw_networkx(G) - plots the graph\n",
        "    # plt.show() - displays the graph\n",
        "    def visualize(self):\n",
        "        G = nx.Graph()\n",
        "        G.add_edges_from(self.visual)\n",
        "        nx.draw_networkx(G)\n",
        "        plt.show(block=True)\n",
        "\n",
        "# Driver code\n",
        "G = GraphVisualization()\n",
        "G.addEdge(2, 5)\n",
        "G.addEdge(3, 5)\n",
        "G.addEdge(4, 0)\n",
        "G.addEdge(5, 0)\n",
        "G.addEdge(5, 1)\n",
        "\n",
        "G.visualize()\n",
        "\n",
        "\n",
        "\n",
        "plot = plt.figure()\n",
        "\n",
        "plt.show()\n"
      ],
      "metadata": {
        "colab": {
          "base_uri": "https://localhost:8080/",
          "height": 266
        },
        "id": "YR-4P34QrHCJ",
        "outputId": "c013d03d-6c71-4a87-ad98-2e4c2464eec5"
      },
      "execution_count": null,
      "outputs": [
        {
          "output_type": "display_data",
          "data": {
            "text/plain": [
              "<Figure size 432x288 with 1 Axes>"
            ],
            "image/png": "[encoded data removed]"
          },
          "metadata": {}
        },
        {
          "output_type": "display_data",
          "data": {
            "text/plain": [
              "<Figure size 432x288 with 0 Axes>"
            ]
          },
          "metadata": {}
        }
      ]
    },
    {
      "cell_type": "markdown",
      "source": [
        "UPGMA ve NJ TREE ÇİZDİRİLMESİ"
      ],
      "metadata": {
        "id": "jBSh6drQLmjL"
      }
    },
    {
      "cell_type": "code",
      "source": [
        "# Create a DistanceTreeConstructor object\n",
        "constructor = DistanceTreeConstructor()\n",
        "# Construct the phlyogenetic tree using UPGMA algorithm\n",
        "UPGMATree = constructor.upgma(distMatrix)\n",
        "# Construct the phlyogenetic tree using NJ algorithm\n",
        "NJTree = constructor.nj(distMatrix)"
      ],
      "metadata": {
        "id": "7LnGATrC31nX"
      },
      "execution_count": null,
      "outputs": []
    },
    {
      "cell_type": "code",
      "source": [
        "from Bio.Phylo.TreeConstruction import DistanceTreeConstructor\n",
        "constructor = DistanceTreeConstructor(calculator)\n",
        "\n",
        "# Build the tree\n",
        "seq_tree = constructor.build_tree(alignment)\n",
        "seq_tree.rooted = True\n",
        "print(seq_tree)"
      ],
      "metadata": {
        "colab": {
          "base_uri": "https://localhost:8080/"
        },
        "id": "AN2wn7cpvoBC",
        "outputId": "72342814-d73c-4cf7-a951-8e049168b45d"
      },
      "execution_count": null,
      "outputs": [
        {
          "output_type": "stream",
          "name": "stdout",
          "text": [
            "Tree(rooted=True)\n",
            "    Clade(branch_length=0, name='Inner4')\n",
            "        Clade(branch_length=0.025000000000000022, name='Inner3')\n",
            "            Clade(branch_length=0.05000000000000002, name='Inner2')\n",
            "                Clade(branch_length=0.09166666666666665, name='Inner1')\n",
            "                    Clade(branch_length=0.26249999999999996, name='seq5')\n",
            "                    Clade(branch_length=0.03750000000000009, name='seq1')\n",
            "                Clade(branch_length=0.20833333333333334, name='seq2')\n",
            "            Clade(branch_length=0.07500000000000001, name='seq3')\n",
            "        Clade(branch_length=0.175, name='seq4')\n",
            "        Clade(branch_length=0.024999999999999967, name='seq6')\n"
          ]
        }
      ]
    },
    {
      "cell_type": "code",
      "source": [
        "# Draw the phlyogenetic tree\n",
        "Phylo.draw_ascii(UPGMATree)\n",
        "Phylo.draw(UPGMATree)\n",
        "# Draw the phlyogenetic tree using terminal\n",
        "Phylo.draw_ascii(NJTree)\n",
        "Phylo.draw(NJTree)"
      ],
      "metadata": {
        "colab": {
          "base_uri": "https://localhost:8080/",
          "height": 984
        },
        "id": "bl5zPwEB38Xs",
        "outputId": "20f595eb-d7ca-450a-a432-05664bdd701e"
      },
      "execution_count": null,
      "outputs": [
        {
          "output_type": "stream",
          "name": "stdout",
          "text": [
            "                               __________________________________________ seq4\n",
            "      ________________________|\n",
            "     |                        |                          ________________ seq6\n",
            "  ___|                        |_________________________|\n",
            " |   |                                                  |________________ seq3\n",
            " |   |\n",
            "_|   |___________________________________________________________________ seq2\n",
            " |\n",
            " |                     __________________________________________________ seq5\n",
            " |____________________|\n",
            "                      |__________________________________________________ seq1\n",
            "\n"
          ]
        },
        {
          "output_type": "display_data",
          "data": {
            "text/plain": [
              "<Figure size 432x288 with 1 Axes>"
            ],
            "image/png": "[encoded data removed]"
          },
          "metadata": {
            "needs_background": "light"
          }
        },
        {
          "output_type": "stream",
          "name": "stdout",
          "text": [
            "                             ____________________________________________ seq5\n",
            "              ______________|\n",
            "      _______|              |______ seq1\n",
            "     |       |\n",
            "  ___|       |__________________________________ seq2\n",
            " |   |\n",
            " |   |___________ seq3\n",
            "_|\n",
            " |____________________________ seq4\n",
            " |\n",
            " |___ seq6\n",
            "\n"
          ]
        },
        {
          "output_type": "display_data",
          "data": {
            "text/plain": [
              "<Figure size 432x288 with 1 Axes>"
            ],
            "image/png": "[encoded data removed]"
          },
          "metadata": {
            "needs_background": "light"
          }
        }
      ]
    },
    {
      "cell_type": "markdown",
      "source": [
        "PAIRWISE ile HAMMING DISTANCE BULMA"
      ],
      "metadata": {
        "id": "6yLED00J4KcN"
      }
    },
    {
      "cell_type": "code",
      "source": [
        "seq1 = \"ACCTGCACCA\"\n",
        "seq2 = \"AGCTCCACTA\"\n",
        "seq3 = \"GCCTACACTA\"\n",
        "seq4 = \"TCCTACATCA\"\n",
        "seq5 = \"CCCTGAACCT\"\n",
        "seq6 = \"TCCTACACTA\"\n",
        "\n",
        "\n",
        "# İkişerli hamming distance bulunması için döngüye alma\n",
        "def h_d_loop(seq1, seq2):\n",
        "    h_distance = 0\n",
        "    for position in range(len(seq1)):\n",
        "        if seq1[position] != seq2[position]:\n",
        "            h_distance += 1\n",
        "    return h_distance\n",
        "\n",
        "\n",
        "# Çıktıların yazdırılması\n",
        "print(\"Hamming Distance: \\n\", end='')\n",
        "print( h_d_loop(seq1, seq2), h_d_loop(seq1, seq3), h_d_loop(seq1, seq4), h_d_loop(seq1, seq5), h_d_loop(seq1, seq6))\n",
        "print(h_d_loop(seq2, seq3), h_d_loop(seq2, seq4), h_d_loop(seq2, seq5), h_d_loop(seq2, seq6))\n",
        "print(h_d_loop(seq3, seq4), h_d_loop(seq3, seq5), h_d_loop(seq3, seq6))\n",
        "print(h_d_loop(seq4, seq5), h_d_loop(seq4, seq6))\n",
        "print(h_d_loop(seq5,seq6))\n"
      ],
      "metadata": {
        "colab": {
          "base_uri": "https://localhost:8080/"
        },
        "id": "Ydoc4FiQKOYi",
        "outputId": "832b895d-d797-45d7-f19f-2467ddeb23e2"
      },
      "execution_count": null,
      "outputs": [
        {
          "output_type": "stream",
          "name": "stdout",
          "text": [
            "Hamming Distance: \n",
            "3 3 3 3 3\n",
            "3 5 6 3\n",
            "3 5 1\n",
            "5 2\n",
            "5\n"
          ]
        }
      ]
    },
    {
      "cell_type": "markdown",
      "source": [
        "BULUNAN DISTANCE ile DISTANCE MATRIX OLUŞTURMA ve COMPLETE GRAPH ÇİZDİRME"
      ],
      "metadata": {
        "id": "K7VbOdOP4epg"
      }
    },
    {
      "cell_type": "code",
      "source": [
        "import matplotlib.pyplot as plt\n",
        "import networkx as nx\n",
        "\n",
        "# Mesafe matrisini bir sözlüğe aktarma\n",
        "def matrix_to_dict(matrix):\n",
        "    d = {}\n",
        "    for i in range(len(matrix)):\n",
        "        for j in range(len(matrix[i])):\n",
        "            if i != j:\n",
        "                d[(i, j)] = matrix[i][j]\n",
        "    return d\n",
        "\n",
        "# Ağaç çizdirilmesi\n",
        "def draw_tree(matrix):\n",
        "    # Mesafe matrisinden bir grafik oluşturma\n",
        "    d = matrix_to_dict(matrix)\n",
        "    G = nx.Graph()\n",
        "    for k, v in d.items():\n",
        "        G.add_edge(k[0], k[1], weight=v)\n",
        "\n",
        "    # Grafik oluşturma için layout sisteminin kullanılması\n",
        "    pos = nx.spring_layout(G)\n",
        "\n",
        "    # Kenarların çizilmesi\n",
        "    nx.draw_networkx_edges(G, pos, edge_color='gray', width=1)\n",
        "\n",
        "    # Nod'ların çizilmesi\n",
        "    nx.draw_networkx_nodes(G, pos, node_size=500, node_color='lightblue')\n",
        "\n",
        "    # Kenarları ağırlıklarla etiketleme\n",
        "    labels = nx.get_edge_attributes(G, 'weight')\n",
        "    nx.draw_networkx_edge_labels(G, pos, edge_labels=labels)\n",
        "\n",
        "    # Nodları etiketleme\n",
        "    labels = {i: i for i in range(len(matrix))}\n",
        "    nx.draw_networkx_labels(G, pos, labels)\n",
        "\n",
        "    # Şekil gösterimi\n",
        "    plt.show()\n",
        "\n",
        "# Oluşturduğum fonksiyonun distance matrix ile denenmesi\n",
        "distance_matrix = [[0, 3, 3, 3, 3, 3],\n",
        "                  [3, 0, 3, 5, 6, 3],\n",
        "                  [3, 3, 0, 3, 5, 1],\n",
        "                  [3, 5, 3, 0, 5, 2],\n",
        "                  [3, 6, 5, 5, 0, 5],\n",
        "                  [3, 3, 1, 2, 5, 0]]\n",
        "draw_tree(distance_matrix)"
      ],
      "metadata": {
        "colab": {
          "base_uri": "https://localhost:8080/",
          "height": 248
        },
        "id": "qI39kf-56e28",
        "outputId": "216032b3-ee32-4207-d89a-259023bdb872"
      },
      "execution_count": null,
      "outputs": [
        {
          "output_type": "display_data",
          "data": {
            "text/plain": [
              "<Figure size 432x288 with 1 Axes>"
            ],
            "image/png": "[encoded data removed]"
          },
          "metadata": {}
        }
      ]
    },
    {
      "cell_type": "markdown",
      "source": [
        "COMPLETE GRAPH'tan KRUSKAL ALGORİTMASI ile MST BULMA\n",
        "\n",
        "BULUNAN MST ile PHYLOGENETIC TREE ÇİZDİRİLMESİ"
      ],
      "metadata": {
        "id": "IKcMDXG3LBSr"
      }
    },
    {
      "cell_type": "code",
      "source": [
        "import matplotlib.pyplot as plt\n",
        "import networkx as nx\n",
        "\n",
        "# Mesafe matrisini bir sözlüğe aktarma\n",
        "def matrix_to_dict(matrix):\n",
        "    d = {}\n",
        "    for i in range(len(matrix)):\n",
        "        for j in range(len(matrix[i])):\n",
        "            if i != j:\n",
        "                d[(i, j)] = matrix[i][j]\n",
        "    return d\n",
        "\n",
        "def find(parent, i):\n",
        "    if parent[i] == i:\n",
        "        return i\n",
        "    return find(parent, parent[i])\n",
        "\n",
        "# Döngü bulunması\n",
        "def union(parent, rank, x, y):\n",
        "    xroot = find(parent, x)\n",
        "    yroot = find(parent, y)\n",
        "\n",
        "    if rank[xroot] < rank[yroot]:\n",
        "        parent[xroot] = yroot\n",
        "    elif rank[xroot] > rank[yroot]:\n",
        "        parent[yroot] = xroot\n",
        "    else:\n",
        "        parent[yroot] = xroot\n",
        "        rank[xroot] += 1\n",
        "\n",
        "# Minimum spanning tree bulunması\n",
        "def kruskal(graph, V, E):\n",
        "    result = []\n",
        "    i = 0\n",
        "    e = 0\n",
        "\n",
        "    graph = sorted(graph, key=lambda item: item[2])\n",
        "\n",
        "    parent = []\n",
        "    rank = []\n",
        "\n",
        "    for node in range(V):\n",
        "        parent.append(node)\n",
        "        rank.append(0)\n",
        "\n",
        "    while e < V - 1:\n",
        "        u, v, w = graph[i]\n",
        "        i = i + 1\n",
        "        x = find(parent, u)\n",
        "        y = find(parent, v)\n",
        "\n",
        "        if x != y:\n",
        "            e = e + 1\n",
        "            result.append([u, v, w])\n",
        "            union(parent, rank, x, y)\n",
        "    return result\n",
        "\n",
        "\n",
        "\n",
        "# Ağaç çizimi\n",
        "def draw_tree(matrix):\n",
        "    # Kruskal algoritması kullanılarak minimum spanning tree bulunması\n",
        "    graph = [[i, j, matrix[i][j]] for i in range(len(matrix)) for j in range(len(matrix[i])) if i != j]\n",
        "    mst = kruskal(graph, len(matrix), len(graph))\n",
        "    print(\"MST'nin içerdiği kenarlar: \\n\", mst)\n",
        "\n",
        "    # Minimum spanning tree oluşturulması\n",
        "    G = nx.Graph()\n",
        "    for edge in mst:\n",
        "        G.add_edge(edge[0], edge[1], weight=edge[2])\n",
        "\n",
        "    # Grafik için layout sisteminin kullanılması\n",
        "    pos = nx.spring_layout(G)\n",
        "\n",
        "    # Kenarları çiz\n",
        "    nx.draw_networkx_edges(G, pos, edge_color='gray', width=1)\n",
        "\n",
        "    # Nodları çiz\n",
        "    nx.draw_networkx_nodes(G, pos, node_size=500, node_color='lightblue')\n",
        "\n",
        "    # Kenarları ağırlıklarla etiketleme\n",
        "    labels = nx.get_edge_attributes(G, 'weight')\n",
        "    nx.draw_networkx_edge_labels(G, pos, edge_labels=labels)\n",
        "\n",
        "    # Nodları etiketleme\n",
        "    labels = {i: i for i in range(len(matrix))}\n",
        "    nx.draw_networkx_labels(G, pos, labels)\n",
        "\n",
        "    # Görselleştirme\n",
        "    plt.show()\n",
        "\n",
        "# oluşturduğum fonksiyonun distance matrix ile test edilmesi\n",
        "distance_matrix = [[0, 3, 3, 3, 3, 3],\n",
        "                  [3, 0, 3, 5, 6, 3],\n",
        "                  [3, 3, 0, 3, 5, 1],\n",
        "                  [3, 5, 3, 0, 5, 2],\n",
        "                  [3, 6, 5, 5, 0, 5],\n",
        "                  [3, 3, 1, 2, 5, 0]]\n",
        "draw_tree(distance_matrix)\n",
        "\n"
      ],
      "metadata": {
        "colab": {
          "base_uri": "https://localhost:8080/",
          "height": 285
        },
        "id": "zUDNOZo-8dpE",
        "outputId": "c00579a1-32a2-403d-a65e-8bb65e7d3690"
      },
      "execution_count": null,
      "outputs": [
        {
          "output_type": "stream",
          "name": "stdout",
          "text": [
            "MST'nin içerdiği kenarlar: \n",
            " [[2, 5, 1], [3, 5, 2], [0, 1, 3], [0, 2, 3], [0, 4, 3]]\n"
          ]
        },
        {
          "output_type": "display_data",
          "data": {
            "text/plain": [
              "<Figure size 432x288 with 1 Axes>"
            ],
            "image/png": "[encoded data removed]"
          },
          "metadata": {}
        }
      ]
    },
    {
      "cell_type": "markdown",
      "source": [
        "BULUNAN DISTANCE MATRIX ile UPGMA TREE ÇİZDİRİLMESİ"
      ],
      "metadata": {
        "id": "s18lGc0wuC41"
      }
    },
    {
      "cell_type": "code",
      "source": [
        "import matplotlib.pyplot as plt\n",
        "from scipy.cluster.hierarchy import dendrogram, linkage\n",
        "\n",
        "# Mesafe matrisini listeye dönüştür\n",
        "distance_matrix = [[0, 3, 3, 3, 3, 3],\n",
        "                  [3, 0, 3, 5, 6, 3],\n",
        "                  [3, 3, 0, 3, 5, 1],\n",
        "                  [3, 5, 3, 0, 5, 2],\n",
        "                  [3, 6, 5, 5, 0, 5],\n",
        "                  [3, 3, 1, 2, 5, 0]]\n",
        "\n",
        "# Dendrogramı hesaplamak için ortalama bağlantı yöntemini kullan\n",
        "linked = linkage(distance_matrix, 'average')\n",
        "\n",
        "# Dendrogramın gösterilmesi\n",
        "plt.figure(figsize=(10, 7))\n",
        "dendrogram(linked,\n",
        "           labels=['seq 1', 'seq2', 'seq3', 'seq4', 'seq5', 'seq6'],\n",
        "           show_leaf_counts=True, orientation='left')\n",
        "plt.show()"
      ],
      "metadata": {
        "colab": {
          "base_uri": "https://localhost:8080/",
          "height": 465
        },
        "id": "w0hWDArGYe4l",
        "outputId": "350430f0-d5db-4261-86c6-a380411f73f9"
      },
      "execution_count": null,
      "outputs": [
        {
          "output_type": "stream",
          "name": "stderr",
          "text": [
            "<ipython-input-2-71316b5567b1>:13: ClusterWarning: scipy.cluster: The symmetric non-negative hollow observation matrix looks suspiciously like an uncondensed distance matrix\n",
            "  linked = linkage(distance_matrix, 'average')\n"
          ]
        },
        {
          "output_type": "display_data",
          "data": {
            "text/plain": [
              "<Figure size 720x504 with 1 Axes>"
            ],
            "image/png": "[encoded data removed]"
          },
          "metadata": {
            "needs_background": "light"
          }
        }
      ]
    },
    {
      "cell_type": "markdown",
      "source": [
        "BULUNAN DISTANCE MATRIX ile ALIGN YÖNTEMİYLE UPGMA VE NJ TREE ÇİZDİRİLMESİ"
      ],
      "metadata": {
        "id": "Zl2etecIRC9r"
      }
    },
    {
      "cell_type": "code",
      "source": [
        "from Bio.Seq import Seq\n",
        "from Bio.SeqRecord import SeqRecord\n",
        "from Bio.Align import MultipleSeqAlignment\n",
        "alignment = MultipleSeqAlignment(\n",
        "     [\n",
        "        SeqRecord(Seq(\"ACCTGCACCA\"), id='seq1'),\n",
        "        SeqRecord(Seq(\"AGCTCCACTA\"), id='seq2'),\n",
        "        SeqRecord(Seq(\"GCCTACACTA\"), id='seq3'),\n",
        "        SeqRecord(Seq(\"TCCTACATCA\"), id='seq4'),\n",
        "        SeqRecord(Seq(\"CCCTGAACCT\"), id='seq5'),\n",
        "        SeqRecord(Seq(\"TCCTACACTA\"), id='seq6'),\n",
        "    ]\n",
        " )\n",
        "\n",
        "# Importing necessary libraries from BioPython\n",
        "from Bio import Phylo, AlignIO\n",
        "from Bio.Phylo.TreeConstruction import DistanceCalculator, DistanceTreeConstructor\n",
        "from Bio.Phylo.TreeConstruction import DistanceTreeConstructor\n",
        "\n",
        "distMatrix = [[0, 3, 3, 3, 3, 3],\n",
        "                  [3, 0, 3, 5, 6, 3],\n",
        "                  [3, 3, 0, 3, 5, 1],\n",
        "                  [3, 5, 3, 0, 5, 2],\n",
        "                  [3, 6, 5, 5, 0, 5],\n",
        "                  [3, 3, 1, 2, 5, 0]]\n",
        "\n",
        "\n",
        "# Create a DistanceTreeConstructor object\n",
        "constructor = DistanceTreeConstructor()\n",
        "constructor = DistanceTreeConstructor(calculator)\n",
        "\n",
        "# Build the tree\n",
        "seq_tree = constructor.build_tree(alignment)\n",
        "seq_tree.rooted = True\n",
        "print(seq_tree)\n",
        "\n",
        "\n",
        "# Draw the phlyogenetic tree\n",
        "Phylo.draw_ascii(UPGMATree)\n",
        "Phylo.draw(UPGMATree)\n",
        "# Draw the phlyogenetic tree using terminal\n",
        "Phylo.draw_ascii(NJTree)\n",
        "Phylo.draw(NJTree)"
      ],
      "metadata": {
        "colab": {
          "base_uri": "https://localhost:8080/",
          "height": 1000
        },
        "id": "hyrbdXjCmcbZ",
        "outputId": "0c0cb958-a5b6-4813-9ed9-82927427bf1b"
      },
      "execution_count": null,
      "outputs": [
        {
          "output_type": "stream",
          "name": "stdout",
          "text": [
            "Tree(rooted=True)\n",
            "    Clade(branch_length=0, name='Inner4')\n",
            "        Clade(branch_length=0.025000000000000022, name='Inner3')\n",
            "            Clade(branch_length=0.05000000000000002, name='Inner2')\n",
            "                Clade(branch_length=0.09166666666666665, name='Inner1')\n",
            "                    Clade(branch_length=0.26249999999999996, name='seq5')\n",
            "                    Clade(branch_length=0.03750000000000009, name='seq1')\n",
            "                Clade(branch_length=0.20833333333333334, name='seq2')\n",
            "            Clade(branch_length=0.07500000000000001, name='seq3')\n",
            "        Clade(branch_length=0.175, name='seq4')\n",
            "        Clade(branch_length=0.024999999999999967, name='seq6')\n",
            "                               __________________________________________ seq4\n",
            "      ________________________|\n",
            "     |                        |                          ________________ seq6\n",
            "  ___|                        |_________________________|\n",
            " |   |                                                  |________________ seq3\n",
            " |   |\n",
            "_|   |___________________________________________________________________ seq2\n",
            " |\n",
            " |                     __________________________________________________ seq5\n",
            " |____________________|\n",
            "                      |__________________________________________________ seq1\n",
            "\n"
          ]
        },
        {
          "output_type": "display_data",
          "data": {
            "text/plain": [
              "<Figure size 432x288 with 1 Axes>"
            ],
            "image/png": "[encoded data removed]"
          },
          "metadata": {
            "needs_background": "light"
          }
        },
        {
          "output_type": "stream",
          "name": "stdout",
          "text": [
            "                             ____________________________________________ seq5\n",
            "              ______________|\n",
            "      _______|              |______ seq1\n",
            "     |       |\n",
            "  ___|       |__________________________________ seq2\n",
            " |   |\n",
            " |   |___________ seq3\n",
            "_|\n",
            " |____________________________ seq4\n",
            " |\n",
            " |___ seq6\n",
            "\n"
          ]
        },
        {
          "output_type": "display_data",
          "data": {
            "text/plain": [
              "<Figure size 432x288 with 1 Axes>"
            ],
            "image/png": "[encoded data removed]"
          },
          "metadata": {
            "needs_background": "light"
          }
        }
      ]
    }
  ]
}