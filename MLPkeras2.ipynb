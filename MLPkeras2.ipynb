{
  "nbformat": 4,
  "nbformat_minor": 0,
  "metadata": {
    "colab": {
      "provenance": []
    },
    "kernelspec": {
      "name": "python3",
      "display_name": "Python 3"
    },
    "language_info": {
      "name": "python"
    }
  },
  "cells": [
    {
      "cell_type": "code",
      "execution_count": null,
      "metadata": {
        "colab": {
          "base_uri": "https://localhost:8080/"
        },
        "id": "7ni1vUk-ljDX",
        "outputId": "a7040685-82e7-4e6b-ed43-da9b3516692c"
      },
      "outputs": [
        {
          "output_type": "stream",
          "name": "stdout",
          "text": [
            "60000 train samples\n",
            "10000 test samples\n",
            "Model: \"sequential_3\"\n",
            "_________________________________________________________________\n",
            " Layer (type)                Output Shape              Param #   \n",
            "=================================================================\n",
            " dense_10 (Dense)            (None, 256)               25856     \n",
            "                                                                 \n",
            " dropout_7 (Dropout)         (None, 256)               0         \n",
            "                                                                 \n",
            " dense_11 (Dense)            (None, 256)               65792     \n",
            "                                                                 \n",
            " dropout_8 (Dropout)         (None, 256)               0         \n",
            "                                                                 \n",
            " dense_12 (Dense)            (None, 10)                2570      \n",
            "                                                                 \n",
            "=================================================================\n",
            "Total params: 94,218\n",
            "Trainable params: 94,218\n",
            "Non-trainable params: 0\n",
            "_________________________________________________________________\n",
            "Epoch 1/5\n"
          ]
        },
        {
          "output_type": "stream",
          "name": "stderr",
          "text": [
            "/usr/local/lib/python3.8/dist-packages/keras/optimizers/optimizer_v2/adam.py:110: UserWarning: The `lr` argument is deprecated, use `learning_rate` instead.\n",
            "  super(Adam, self).__init__(name, **kwargs)\n"
          ]
        },
        {
          "output_type": "stream",
          "name": "stdout",
          "text": [
            "235/235 [==============================] - 3s 10ms/step - loss: 0.5963 - accuracy: 0.8340 - val_loss: 0.2158 - val_accuracy: 0.9379\n",
            "Epoch 2/5\n",
            "235/235 [==============================] - 2s 9ms/step - loss: 0.2272 - accuracy: 0.9324 - val_loss: 0.1500 - val_accuracy: 0.9548\n",
            "Epoch 3/5\n",
            "235/235 [==============================] - 2s 9ms/step - loss: 0.1721 - accuracy: 0.9487 - val_loss: 0.1183 - val_accuracy: 0.9643\n",
            "Epoch 4/5\n",
            "235/235 [==============================] - 2s 9ms/step - loss: 0.1398 - accuracy: 0.9585 - val_loss: 0.1016 - val_accuracy: 0.9696\n",
            "Epoch 5/5\n",
            "235/235 [==============================] - 2s 9ms/step - loss: 0.1181 - accuracy: 0.9646 - val_loss: 0.0887 - val_accuracy: 0.9737\n",
            "Test loss: 0.08873532712459564\n",
            "Test accuracy: 0.9736999869346619\n"
          ]
        }
      ],
      "source": [
        "from __future__ import print_function\n",
        "\n",
        "import keras\n",
        "from sklearn.decomposition import PCA\n",
        "from keras.datasets import mnist\n",
        "from keras.models import Sequential\n",
        "from keras.layers import Dense, Dropout\n",
        "from keras.optimizers import RMSprop, Adam, Nadam\n",
        "\n",
        "batch_size = 256\n",
        "num_classes = 10\n",
        "epochs = 5\n",
        "\n",
        "# the data, shuffled and split between train and test sets\n",
        "(x_train, y_train), (x_test, y_test) = mnist.load_data()\n",
        "\n",
        "#                         PREPROCESSING DATA\n",
        "\n",
        "# Change from matrix to array --> dimension 28x28 to array of dimention 784\n",
        "x_train = x_train.reshape(60000, 784)\n",
        "x_test = x_test.reshape(10000, 784)\n",
        "\n",
        "# Change to float datatype\n",
        "x_train = x_train.astype('float32')\n",
        "x_test = x_test.astype('float32')\n",
        "# Scale the data to lie between 0 to 1\n",
        "x_train /= 255\n",
        "x_test /= 255\n",
        "print(x_train.shape[0], 'train samples')\n",
        "print(x_test.shape[0], 'test samples')\n",
        "\n",
        "# convert class vectors to binary class matrices (one hot encoding)\n",
        "y_train = keras.utils.to_categorical(y_train, num_classes)\n",
        "y_test = keras.utils.to_categorical(y_test, num_classes)\n",
        "\n",
        "# PCA\n",
        "pca = PCA(n_components=100)\n",
        "\n",
        "x_train=pca.fit_transform(x_train)\n",
        "x_test= pca.transform(x_test)\n",
        "\n",
        "#                      BUILDING THE MODEL\n",
        "\n",
        "model = Sequential()\n",
        "model.add(Dense(512, activation='relu', input_shape=(100,)))\n",
        "model.add(Dropout(0.2))\n",
        "model.add(Dense(512, activation='relu'))\n",
        "model.add(Dropout(0.2))\n",
        "\n",
        "#model.add(Dense(512, activation='relu'))\n",
        "#model.add(Dropout(0.2))\n",
        "\n",
        "model.add(Dense(num_classes, activation='softmax'))\n",
        "\n",
        "model.summary()\n",
        "nadam=keras.optimizers.Adam(lr=0.0005)\n",
        "model.compile(loss='categorical_crossentropy',\n",
        "              optimizer=nadam,\n",
        "              metrics=['accuracy'])\n",
        "\n",
        "#                      TRAINING THE MODEL\n",
        "history = model.fit(x_train, y_train,\n",
        "                    batch_size=batch_size,\n",
        "                    epochs=epochs,\n",
        "                    verbose=1,\n",
        "                    validation_data=(x_test, y_test))\n",
        "\n",
        "\n",
        "#                      EVALUATE TRAINED MODEL\n",
        "score = model.evaluate(x_test, y_test, verbose=0)\n",
        "print('Test loss:', score[0])\n",
        "print('Test accuracy:', score[1])"
      ]
    },
    {
      "cell_type": "code",
      "source": [
        "import matplotlib.pyplot as plt\n",
        "\n",
        "\n",
        "fig, ax = plt.subplots(2,1)\n",
        "ax[0].plot(history.history['loss'], color='b', label=\"Training loss\")\n",
        "ax[0].plot(history.history['val_loss'], color='r', label=\"validation loss\",axes =ax[0])\n",
        "legend = ax[0].legend(loc='best', shadow=True)\n",
        "\n",
        "ax[1].plot(history.history['accuracy'], color='b', label=\"Training accuracy\")\n",
        "ax[1].plot(history.history['val_accuracy'], color='r',label=\"Validation accuracy\")\n",
        "legend = ax[1].legend(loc='best', shadow=True)"
      ],
      "metadata": {
        "colab": {
          "base_uri": "https://localhost:8080/",
          "height": 266
        },
        "id": "gtdCtf5Vl-Sd",
        "outputId": "4da134ff-ea54-4862-ef41-4806dfbd1d66"
      },
      "execution_count": null,
      "outputs": [
        {
          "output_type": "display_data",
          "data": {
            "text/plain": [
              "<Figure size 432x288 with 2 Axes>"
            ],
            "image/png": "[encoded data removed]"
          },
          "metadata": {
            "needs_background": "light"
          }
        }
      ]
    }
  ]
}