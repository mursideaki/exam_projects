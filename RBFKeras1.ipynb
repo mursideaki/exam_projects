{
  "nbformat": 4,
  "nbformat_minor": 0,
  "metadata": {
    "colab": {
      "provenance": []
    },
    "kernelspec": {
      "name": "python3",
      "display_name": "Python 3"
    },
    "language_info": {
      "name": "python"
    }
  },
  "cells": [
    {
      "cell_type": "code",
      "execution_count": null,
      "metadata": {
        "colab": {
          "base_uri": "https://localhost:8080/"
        },
        "id": "aVy47hKfS4l7",
        "outputId": "09df907e-3804-4670-92e9-ca4694ecc84e"
      },
      "outputs": [
        {
          "output_type": "stream",
          "name": "stdout",
          "text": [
            "60000 train samples\n",
            "10000 test samples\n",
            "Model: \"sequential_3\"\n",
            "_________________________________________________________________\n",
            " Layer (type)                Output Shape              Param #   \n",
            "=================================================================\n",
            " dense_7 (Dense)             (None, 256)               2816      \n",
            "                                                                 \n",
            " dropout_4 (Dropout)         (None, 256)               0         \n",
            "                                                                 \n",
            " dense_8 (Dense)             (None, 10)                2570      \n",
            "                                                                 \n",
            "=================================================================\n",
            "Total params: 5,386\n",
            "Trainable params: 5,386\n",
            "Non-trainable params: 0\n",
            "_________________________________________________________________\n",
            "Epoch 1/10\n"
          ]
        },
        {
          "output_type": "stream",
          "name": "stderr",
          "text": [
            "/usr/local/lib/python3.8/dist-packages/keras/optimizers/optimizer_v2/nadam.py:78: UserWarning: The `lr` argument is deprecated, use `learning_rate` instead.\n",
            "  super(Nadam, self).__init__(name, **kwargs)\n"
          ]
        },
        {
          "output_type": "stream",
          "name": "stdout",
          "text": [
            "469/469 [==============================] - 2s 3ms/step - loss: 0.9081 - accuracy: 0.8561 - val_loss: 0.3501 - val_accuracy: 0.9328\n",
            "Epoch 2/10\n",
            "469/469 [==============================] - 1s 3ms/step - loss: 0.2752 - accuracy: 0.9403 - val_loss: 0.2077 - val_accuracy: 0.9536\n",
            "Epoch 3/10\n",
            "469/469 [==============================] - 1s 3ms/step - loss: 0.1880 - accuracy: 0.9536 - val_loss: 0.1586 - val_accuracy: 0.9639\n",
            "Epoch 4/10\n",
            "469/469 [==============================] - 1s 3ms/step - loss: 0.1527 - accuracy: 0.9581 - val_loss: 0.1336 - val_accuracy: 0.9693\n",
            "Epoch 5/10\n",
            "469/469 [==============================] - 1s 3ms/step - loss: 0.1303 - accuracy: 0.9625 - val_loss: 0.1167 - val_accuracy: 0.9720\n",
            "Epoch 6/10\n",
            "469/469 [==============================] - 1s 3ms/step - loss: 0.1177 - accuracy: 0.9644 - val_loss: 0.1057 - val_accuracy: 0.9745\n",
            "Epoch 7/10\n",
            "469/469 [==============================] - 1s 3ms/step - loss: 0.1074 - accuracy: 0.9656 - val_loss: 0.0962 - val_accuracy: 0.9767\n",
            "Epoch 8/10\n",
            "469/469 [==============================] - 1s 3ms/step - loss: 0.0977 - accuracy: 0.9700 - val_loss: 0.0894 - val_accuracy: 0.9793\n",
            "Epoch 9/10\n",
            "469/469 [==============================] - 1s 3ms/step - loss: 0.0922 - accuracy: 0.9711 - val_loss: 0.0838 - val_accuracy: 0.9798\n",
            "Epoch 10/10\n",
            "469/469 [==============================] - 1s 3ms/step - loss: 0.0882 - accuracy: 0.9710 - val_loss: 0.0806 - val_accuracy: 0.9799\n",
            "Test loss: 0.08061466366052628\n",
            "Test accuracy: 0.9799000024795532\n"
          ]
        }
      ],
      "source": [
        "from __future__ import print_function\n",
        "from sklearn.gaussian_process.kernels import PairwiseKernel\n",
        "import keras\n",
        "#from sklearn.metrics.pairwise import pairwise_kernels\n",
        "from sklearn.cluster import KMeans\n",
        "from sklearn.decomposition import PCA\n",
        "from sklearn.gaussian_process import GaussianProcessRegressor\n",
        "from keras.datasets import mnist\n",
        "from keras.models import Sequential\n",
        "from keras.layers import Dense, Dropout\n",
        "from keras.optimizers import RMSprop, Adam, Nadam\n",
        "\n",
        "# the data, shuffled and split between train and test sets\n",
        "(x_train, y_train), (x_test, y_test) = mnist.load_data()\n",
        "\n",
        "#                         PREPROCESSING DATA\n",
        "\n",
        "# Change from matrix to array --> dimension 28x28 to array of dimention 784\n",
        "x_train = x_train.reshape(60000, 784)\n",
        "x_test = x_test.reshape(10000, 784)\n",
        "\n",
        "# Change to float datatype\n",
        "x_train = x_train.astype('float32')\n",
        "x_test = x_test.astype('float32')\n",
        "# Scale the data to lie between 0 to 1\n",
        "x_train /= 255\n",
        "x_test /= 255\n",
        "print(x_train.shape[0], 'train samples')\n",
        "print(x_test.shape[0], 'test samples')\n",
        "\n",
        "# convert class vectors to binary class matrices (one hot encoding)\n",
        "y_train = keras.utils.to_categorical(y_train, 10)\n",
        "y_test = keras.utils.to_categorical(y_test, 10)\n",
        "\n",
        "\n",
        "\n",
        "#                       KMEANS to find centers\n",
        "\n",
        "kmeans_model = KMeans(10)   #find 10 centers with kmeans on training samples\n",
        "kmeans_model.fit(x_train)\n",
        "centers = kmeans_model.cluster_centers_\n",
        "x = kmeans_model.predict(kmeans_model.cluster_centers_)\n",
        "x = keras.utils.to_categorical(x, 10)\n",
        "\n",
        "\n",
        "y_trainn= kmeans_model.predict(x_train)\n",
        "y_trainn=keras.utils.to_categorical(y_trainn,10)\n",
        "y_testt=kmeans_model.predict(x_test)\n",
        "y_testt=keras.utils.to_categorical(y_testt, 10)\n",
        "\n",
        "\n",
        "#                       RBF LAYER\n",
        "\n",
        "kernel = PairwiseKernel(metric='polynomial')   #GPR uses the kernel to define the covariance of the training sample\n",
        "rbf_model = GaussianProcessRegressor(kernel=kernel).fit(centers, x)\n",
        "\n",
        "temp1 = rbf_model.predict(x_train)\n",
        "temp2 = rbf_model.predict(x_test)\n",
        "\n",
        "\n",
        "#                      PERCEPTRONS LAYERS\n",
        "batch_size = 128\n",
        "epochs = 10\n",
        "\n",
        "model = Sequential()\n",
        "model.add(Dense(512, activation='relu', input_shape=(10,)))\n",
        "model.add(Dropout(0.2))\n",
        "\n",
        "#model.add(Dense(512, activation='relu', input_shape=(10,)))\n",
        "#model.add(Dropout(0.2))\n",
        "\n",
        "\n",
        "model.add(Dense(10, activation='softmax'))\n",
        "\n",
        "model.summary()\n",
        "nadam=keras.optimizers.Nadam(lr=0.0005)\n",
        "model.compile(loss='categorical_crossentropy',\n",
        "              optimizer=nadam,\n",
        "              metrics=['accuracy'])\n",
        "\n",
        "#                      TRAINING THE MODEL\n",
        "history = model.fit(temp1, y_trainn,\n",
        "                    batch_size=batch_size,\n",
        "                    epochs=epochs,\n",
        "                    verbose=1,\n",
        "                    validation_data=(temp2, y_testt))\n",
        "\n",
        "#                      EVALUATE TRAINED MODEL\n",
        "score = model.evaluate(temp2, y_testt, verbose=0)\n",
        "print('Test loss:', score[0])\n",
        "print('Test accuracy:', score[1])\n"
      ]
    },
    {
      "cell_type": "code",
      "source": [
        "import matplotlib.pyplot as plt\n",
        "\n",
        "fig, ax = plt.subplots(2,1)\n",
        "ax[0].plot(history.history['loss'], color='b', label=\"Training loss\")\n",
        "ax[0].plot(history.history['val_loss'], color='r', label=\"validation loss\",axes =ax[0])\n",
        "legend = ax[0].legend(loc='best', shadow=True)\n",
        "\n",
        "ax[1].plot(history.history['accuracy'], color='b', label=\"Training accuracy\")\n",
        "ax[1].plot(history.history['val_accuracy'], color='r',label=\"Validation accuracy\")\n",
        "legend = ax[1].legend(loc='best', shadow=True)"
      ],
      "metadata": {
        "colab": {
          "base_uri": "https://localhost:8080/",
          "height": 265
        },
        "id": "DzFFKtx1dg36",
        "outputId": "c549ce5b-4ca5-410f-ff97-2a11540b3e6f"
      },
      "execution_count": null,
      "outputs": [
        {
          "output_type": "display_data",
          "data": {
            "text/plain": [
              "<Figure size 432x288 with 2 Axes>"
            ],
            "image/png": "[encoded data removed]"
          },
          "metadata": {
            "needs_background": "light"
          }
        }
      ]
    }
  ]
}